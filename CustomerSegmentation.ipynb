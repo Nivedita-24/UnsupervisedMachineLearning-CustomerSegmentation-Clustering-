{
 "cells": [
  {
   "cell_type": "markdown",
   "metadata": {},
   "source": [
    "# Customer Segmentation and Profiling"
   ]
  },
  {
   "cell_type": "markdown",
   "metadata": {},
   "source": [
    "## K Means Clustering Technique"
   ]
  },
  {
   "cell_type": "raw",
   "metadata": {},
   "source": [
    "K means Clustering\n",
    "\n",
    "Step 1: Choose the number of k clusters\n",
    "Step 2: select at random k points, the centroid (not necessarily from your dataset)\n",
    "Step 3: Assign each data point to the closest centroid - that forms k clusters\n",
    "Step 4: Compute and place the new centroid of each cluster\n",
    "Step 5 : Reassign each data point to the closest centroid."
   ]
  },
  {
   "cell_type": "code",
   "execution_count": 242,
   "metadata": {},
   "outputs": [],
   "source": [
    "## Used Euclidean distance ; k means clustering uses euclidean distance."
   ]
  },
  {
   "cell_type": "code",
   "execution_count": 243,
   "metadata": {},
   "outputs": [],
   "source": [
    "## kmeans++ algorithm : Dealts with random initialization trap."
   ]
  },
  {
   "cell_type": "markdown",
   "metadata": {},
   "source": [
    "WCSS : Within Cluster Sum of Squares\n",
    "Using elbow chart: See wcss decreasing substaintially upto what k, it would look like an elbow."
   ]
  },
  {
   "cell_type": "markdown",
   "metadata": {},
   "source": [
    "## Importing the libraries"
   ]
  },
  {
   "cell_type": "code",
   "execution_count": 244,
   "metadata": {},
   "outputs": [],
   "source": [
    "import numpy as np\n",
    "import pandas as pd\n",
    "import matplotlib.pyplot as plt\n",
    "from sklearn.preprocessing import StandardScaler\n",
    "from sklearn.preprocessing import LabelEncoder\n",
    "from sklearn.cluster import KMeans\n",
    "import seaborn as sns\n",
    "import warnings\n",
    "warnings.filterwarnings('ignore')"
   ]
  },
  {
   "cell_type": "markdown",
   "metadata": {},
   "source": [
    "## Importing the dataset"
   ]
  },
  {
   "cell_type": "code",
   "execution_count": 245,
   "metadata": {},
   "outputs": [
    {
     "data": {
      "text/plain": [
       "(200, 5)"
      ]
     },
     "execution_count": 245,
     "metadata": {},
     "output_type": "execute_result"
    }
   ],
   "source": [
    "# let's load the Mall Customers dataset\n",
    "# and explore its shape\n",
    "\n",
    "dataset = pd.read_csv(\"Mall_Customers.csv\")\n",
    "dataset.shape"
   ]
  },
  {
   "cell_type": "markdown",
   "metadata": {},
   "source": [
    "## Pre-Processing"
   ]
  },
  {
   "cell_type": "code",
   "execution_count": 246,
   "metadata": {},
   "outputs": [
    {
     "data": {
      "text/html": [
       "<div>\n",
       "<style scoped>\n",
       "    .dataframe tbody tr th:only-of-type {\n",
       "        vertical-align: middle;\n",
       "    }\n",
       "\n",
       "    .dataframe tbody tr th {\n",
       "        vertical-align: top;\n",
       "    }\n",
       "\n",
       "    .dataframe thead th {\n",
       "        text-align: right;\n",
       "    }\n",
       "</style>\n",
       "<table border=\"1\" class=\"dataframe\">\n",
       "  <thead>\n",
       "    <tr style=\"text-align: right;\">\n",
       "      <th></th>\n",
       "      <th>CustomerID</th>\n",
       "      <th>Genre</th>\n",
       "      <th>Age</th>\n",
       "      <th>Annual Income (k$)</th>\n",
       "      <th>Spending Score (1-100)</th>\n",
       "    </tr>\n",
       "  </thead>\n",
       "  <tbody>\n",
       "    <tr>\n",
       "      <th>0</th>\n",
       "      <td>1</td>\n",
       "      <td>Male</td>\n",
       "      <td>19</td>\n",
       "      <td>15</td>\n",
       "      <td>39</td>\n",
       "    </tr>\n",
       "    <tr>\n",
       "      <th>1</th>\n",
       "      <td>2</td>\n",
       "      <td>Male</td>\n",
       "      <td>21</td>\n",
       "      <td>15</td>\n",
       "      <td>81</td>\n",
       "    </tr>\n",
       "    <tr>\n",
       "      <th>2</th>\n",
       "      <td>3</td>\n",
       "      <td>Female</td>\n",
       "      <td>20</td>\n",
       "      <td>16</td>\n",
       "      <td>6</td>\n",
       "    </tr>\n",
       "    <tr>\n",
       "      <th>3</th>\n",
       "      <td>4</td>\n",
       "      <td>Female</td>\n",
       "      <td>23</td>\n",
       "      <td>16</td>\n",
       "      <td>77</td>\n",
       "    </tr>\n",
       "    <tr>\n",
       "      <th>4</th>\n",
       "      <td>5</td>\n",
       "      <td>Female</td>\n",
       "      <td>31</td>\n",
       "      <td>17</td>\n",
       "      <td>40</td>\n",
       "    </tr>\n",
       "  </tbody>\n",
       "</table>\n",
       "</div>"
      ],
      "text/plain": [
       "   CustomerID   Genre  Age  Annual Income (k$)  Spending Score (1-100)\n",
       "0           1    Male   19                  15                      39\n",
       "1           2    Male   21                  15                      81\n",
       "2           3  Female   20                  16                       6\n",
       "3           4  Female   23                  16                      77\n",
       "4           5  Female   31                  17                      40"
      ]
     },
     "execution_count": 246,
     "metadata": {},
     "output_type": "execute_result"
    }
   ],
   "source": [
    "## let's visualize the dataset\n",
    "dataset.head()"
   ]
  },
  {
   "cell_type": "code",
   "execution_count": 247,
   "metadata": {},
   "outputs": [
    {
     "data": {
      "text/html": [
       "<div>\n",
       "<style scoped>\n",
       "    .dataframe tbody tr th:only-of-type {\n",
       "        vertical-align: middle;\n",
       "    }\n",
       "\n",
       "    .dataframe tbody tr th {\n",
       "        vertical-align: top;\n",
       "    }\n",
       "\n",
       "    .dataframe thead th {\n",
       "        text-align: right;\n",
       "    }\n",
       "</style>\n",
       "<table border=\"1\" class=\"dataframe\">\n",
       "  <thead>\n",
       "    <tr style=\"text-align: right;\">\n",
       "      <th></th>\n",
       "      <th>CustomerID</th>\n",
       "      <th>Age</th>\n",
       "      <th>Annual Income (k$)</th>\n",
       "      <th>Spending Score (1-100)</th>\n",
       "    </tr>\n",
       "  </thead>\n",
       "  <tbody>\n",
       "    <tr>\n",
       "      <th>count</th>\n",
       "      <td>200.000000</td>\n",
       "      <td>200.000000</td>\n",
       "      <td>200.000000</td>\n",
       "      <td>200.000000</td>\n",
       "    </tr>\n",
       "    <tr>\n",
       "      <th>mean</th>\n",
       "      <td>100.500000</td>\n",
       "      <td>38.850000</td>\n",
       "      <td>60.560000</td>\n",
       "      <td>50.200000</td>\n",
       "    </tr>\n",
       "    <tr>\n",
       "      <th>std</th>\n",
       "      <td>57.879185</td>\n",
       "      <td>13.969007</td>\n",
       "      <td>26.264721</td>\n",
       "      <td>25.823522</td>\n",
       "    </tr>\n",
       "    <tr>\n",
       "      <th>min</th>\n",
       "      <td>1.000000</td>\n",
       "      <td>18.000000</td>\n",
       "      <td>15.000000</td>\n",
       "      <td>1.000000</td>\n",
       "    </tr>\n",
       "    <tr>\n",
       "      <th>25%</th>\n",
       "      <td>50.750000</td>\n",
       "      <td>28.750000</td>\n",
       "      <td>41.500000</td>\n",
       "      <td>34.750000</td>\n",
       "    </tr>\n",
       "    <tr>\n",
       "      <th>50%</th>\n",
       "      <td>100.500000</td>\n",
       "      <td>36.000000</td>\n",
       "      <td>61.500000</td>\n",
       "      <td>50.000000</td>\n",
       "    </tr>\n",
       "    <tr>\n",
       "      <th>75%</th>\n",
       "      <td>150.250000</td>\n",
       "      <td>49.000000</td>\n",
       "      <td>78.000000</td>\n",
       "      <td>73.000000</td>\n",
       "    </tr>\n",
       "    <tr>\n",
       "      <th>max</th>\n",
       "      <td>200.000000</td>\n",
       "      <td>70.000000</td>\n",
       "      <td>137.000000</td>\n",
       "      <td>99.000000</td>\n",
       "    </tr>\n",
       "  </tbody>\n",
       "</table>\n",
       "</div>"
      ],
      "text/plain": [
       "       CustomerID         Age  Annual Income (k$)  Spending Score (1-100)\n",
       "count  200.000000  200.000000          200.000000              200.000000\n",
       "mean   100.500000   38.850000           60.560000               50.200000\n",
       "std     57.879185   13.969007           26.264721               25.823522\n",
       "min      1.000000   18.000000           15.000000                1.000000\n",
       "25%     50.750000   28.750000           41.500000               34.750000\n",
       "50%    100.500000   36.000000           61.500000               50.000000\n",
       "75%    150.250000   49.000000           78.000000               73.000000\n",
       "max    200.000000   70.000000          137.000000               99.000000"
      ]
     },
     "execution_count": 247,
     "metadata": {},
     "output_type": "execute_result"
    }
   ],
   "source": [
    "dataset.describe()"
   ]
  },
  {
   "cell_type": "code",
   "execution_count": 248,
   "metadata": {},
   "outputs": [
    {
     "data": {
      "text/html": [
       "<div>\n",
       "<style scoped>\n",
       "    .dataframe tbody tr th:only-of-type {\n",
       "        vertical-align: middle;\n",
       "    }\n",
       "\n",
       "    .dataframe tbody tr th {\n",
       "        vertical-align: top;\n",
       "    }\n",
       "\n",
       "    .dataframe thead th {\n",
       "        text-align: right;\n",
       "    }\n",
       "</style>\n",
       "<table border=\"1\" class=\"dataframe\">\n",
       "  <thead>\n",
       "    <tr style=\"text-align: right;\">\n",
       "      <th></th>\n",
       "      <th>CustomerID</th>\n",
       "      <th>Age</th>\n",
       "      <th>Annual Income (k$)</th>\n",
       "      <th>Spending Score (1-100)</th>\n",
       "    </tr>\n",
       "  </thead>\n",
       "  <tbody>\n",
       "    <tr>\n",
       "      <th>CustomerID</th>\n",
       "      <td>1.000000</td>\n",
       "      <td>-0.026763</td>\n",
       "      <td>0.977548</td>\n",
       "      <td>0.013835</td>\n",
       "    </tr>\n",
       "    <tr>\n",
       "      <th>Age</th>\n",
       "      <td>-0.026763</td>\n",
       "      <td>1.000000</td>\n",
       "      <td>-0.012398</td>\n",
       "      <td>-0.327227</td>\n",
       "    </tr>\n",
       "    <tr>\n",
       "      <th>Annual Income (k$)</th>\n",
       "      <td>0.977548</td>\n",
       "      <td>-0.012398</td>\n",
       "      <td>1.000000</td>\n",
       "      <td>0.009903</td>\n",
       "    </tr>\n",
       "    <tr>\n",
       "      <th>Spending Score (1-100)</th>\n",
       "      <td>0.013835</td>\n",
       "      <td>-0.327227</td>\n",
       "      <td>0.009903</td>\n",
       "      <td>1.000000</td>\n",
       "    </tr>\n",
       "  </tbody>\n",
       "</table>\n",
       "</div>"
      ],
      "text/plain": [
       "                        CustomerID       Age  Annual Income (k$)  \\\n",
       "CustomerID                1.000000 -0.026763            0.977548   \n",
       "Age                      -0.026763  1.000000           -0.012398   \n",
       "Annual Income (k$)        0.977548 -0.012398            1.000000   \n",
       "Spending Score (1-100)    0.013835 -0.327227            0.009903   \n",
       "\n",
       "                        Spending Score (1-100)  \n",
       "CustomerID                            0.013835  \n",
       "Age                                  -0.327227  \n",
       "Annual Income (k$)                    0.009903  \n",
       "Spending Score (1-100)                1.000000  "
      ]
     },
     "execution_count": 248,
     "metadata": {},
     "output_type": "execute_result"
    }
   ],
   "source": [
    "dataset.corr()"
   ]
  },
  {
   "cell_type": "code",
   "execution_count": 249,
   "metadata": {},
   "outputs": [
    {
     "data": {
      "text/plain": [
       "<Figure size 432x288 with 0 Axes>"
      ]
     },
     "metadata": {},
     "output_type": "display_data"
    },
    {
     "data": {
      "image/png": "[encoded data removed]",
      "text/plain": [
       "<Figure size 648x576 with 6 Axes>"
      ]
     },
     "metadata": {},
     "output_type": "display_data"
    }
   ],
   "source": [
    "## Let's look at the distribution\n",
    "sns.set(style = 'whitegrid')\n",
    "plt.clf()\n",
    "\n",
    "## Make a function to create plots\n",
    "def create_plot(columns):\n",
    "    fig, axs = plt.subplots(3,2, figsize = (9,8))\n",
    "    for i, col in enumerate(columns):\n",
    "        sns.boxplot(dataset[col], ax = axs[i][0])\n",
    "        sns.distplot(dataset[col], ax = axs[i][1])\n",
    "#         axs[i][0].set_title('mean = %.2f\\n median = %.2f\\n std = %.2f'%(dataset[col].mean(),dataset[col].median(),dataset[col].std()))\n",
    "#     plt.setp(axs)\n",
    "    plt.tight_layout()\n",
    "    plt.show()\n",
    "    \n",
    "## calling create_plot function\n",
    "numerical_columns = ['Age','Annual Income (k$)','Spending Score (1-100)']\n",
    "create_plot(numerical_columns)\n",
    "\n",
    "# plt.figure(figsize=(10, 6))\n",
    "# sns.distplot(dataset['Annual Income (k$)'])\n",
    "# plt.title('Distribution of Annual Income (k$)', fontsize = 20)\n",
    "# plt.xlabel('Range of Annual Income (k$)')\n",
    "# plt.ylabel('Count')\n",
    "# plt.show()"
   ]
  },
  {
   "cell_type": "raw",
   "metadata": {},
   "source": [
    "_ The average age of customers who visit the mall is 38 years with average annual income = 61.50 k$ and the average spending score obtained by customers is 50.20\n",
    "_ There are outliers in the ‘Annual Income’ column\n",
    "_ The distribution of data in the three numeric columns does not experience a significant skew (relatively normal)"
   ]
  },
  {
   "cell_type": "code",
   "execution_count": 250,
   "metadata": {},
   "outputs": [
    {
     "name": "stdout",
     "output_type": "stream",
     "text": [
      "Q1 = 41.5 and Q3 = 78.0\n",
      "Outlier_lowerlimit = -13.25 and outlier_lowerlimit = 132.75\n"
     ]
    }
   ],
   "source": [
    "## Treating Outliers\n",
    "\n",
    "Q1 = dataset['Annual Income (k$)'].quantile(0.25)\n",
    "Q3 = dataset['Annual Income (k$)'].quantile(0.75)\n",
    "\n",
    "print('Q1 = {} and Q3 = {}'.format(Q1,Q3))\n",
    "IQR = Q3-Q1\n",
    "outlier_lowerlimit = Q1-1.5*IQR\n",
    "outlier_upperlimit = Q3+1.5*IQR\n",
    "print('Outlier_lowerlimit = {} and outlier_lowerlimit = {}'.format(outlier_lowerlimit,outlier_upperlimit))"
   ]
  },
  {
   "cell_type": "code",
   "execution_count": 251,
   "metadata": {},
   "outputs": [
    {
     "data": {
      "text/html": [
       "<div>\n",
       "<style scoped>\n",
       "    .dataframe tbody tr th:only-of-type {\n",
       "        vertical-align: middle;\n",
       "    }\n",
       "\n",
       "    .dataframe tbody tr th {\n",
       "        vertical-align: top;\n",
       "    }\n",
       "\n",
       "    .dataframe thead th {\n",
       "        text-align: right;\n",
       "    }\n",
       "</style>\n",
       "<table border=\"1\" class=\"dataframe\">\n",
       "  <thead>\n",
       "    <tr style=\"text-align: right;\">\n",
       "      <th></th>\n",
       "      <th>CustomerID</th>\n",
       "      <th>Genre</th>\n",
       "      <th>Age</th>\n",
       "      <th>Annual Income (k$)</th>\n",
       "      <th>Spending Score (1-100)</th>\n",
       "    </tr>\n",
       "  </thead>\n",
       "  <tbody>\n",
       "    <tr>\n",
       "      <th>198</th>\n",
       "      <td>199</td>\n",
       "      <td>Male</td>\n",
       "      <td>32</td>\n",
       "      <td>137</td>\n",
       "      <td>18</td>\n",
       "    </tr>\n",
       "    <tr>\n",
       "      <th>199</th>\n",
       "      <td>200</td>\n",
       "      <td>Male</td>\n",
       "      <td>30</td>\n",
       "      <td>137</td>\n",
       "      <td>83</td>\n",
       "    </tr>\n",
       "  </tbody>\n",
       "</table>\n",
       "</div>"
      ],
      "text/plain": [
       "     CustomerID Genre  Age  Annual Income (k$)  Spending Score (1-100)\n",
       "198         199  Male   32                 137                      18\n",
       "199         200  Male   30                 137                      83"
      ]
     },
     "execution_count": 251,
     "metadata": {},
     "output_type": "execute_result"
    }
   ],
   "source": [
    "outliers = dataset[(dataset['Annual Income (k$)']>outlier_upperlimit)|(dataset['Annual Income (k$)']<outlier_lowerlimit)]\n",
    "outliers"
   ]
  },
  {
   "cell_type": "markdown",
   "metadata": {},
   "source": [
    "There are several ways to treat outliers. As you can see above, because here there are only two outliers, so I use the method of removing the two data outliers. Furthermore, the dataset that is free from outliers is stored for use in the final stage of modeling."
   ]
  },
  {
   "cell_type": "code",
   "execution_count": 252,
   "metadata": {},
   "outputs": [
    {
     "name": "stdout",
     "output_type": "stream",
     "text": [
      "initial dataset size =  (200, 5)\n",
      "Final dataset size =  (198, 5)\n"
     ]
    }
   ],
   "source": [
    "print(\"initial dataset size = \", dataset.shape)\n",
    "dataset = dataset[~((dataset['Annual Income (k$)']>outlier_upperlimit)|(dataset['Annual Income (k$)']<outlier_lowerlimit))]\n",
    "print(\"Final dataset size = \",dataset.shape )"
   ]
  },
  {
   "cell_type": "code",
   "execution_count": 253,
   "metadata": {},
   "outputs": [],
   "source": [
    "# #Distribution of Age\n",
    "# plt.figure(figsize=(10, 6))\n",
    "# sns.set(style = 'whitegrid')\n",
    "# sns.distplot(dataset['Age'])\n",
    "# plt.title('Distribution of Age', fontsize = 20)\n",
    "# plt.xlabel('Range of Age')\n",
    "# plt.ylabel('Count')\n",
    "# plt.show()"
   ]
  },
  {
   "cell_type": "code",
   "execution_count": 254,
   "metadata": {},
   "outputs": [],
   "source": [
    "# #Distribution of Spending score\n",
    "# plt.figure(figsize=(10, 6))\n",
    "# sns.set(style = 'whitegrid')\n",
    "# sns.distplot(dataset['Spending Score (1-100)'])\n",
    "# plt.title('Distribution of Spending Score (1-100)', fontsize = 20)\n",
    "# plt.xlabel('Range of Spending Score (1-100)')\n",
    "# plt.ylabel('Count')\n",
    "# plt.show()"
   ]
  },
  {
   "cell_type": "code",
   "execution_count": 255,
   "metadata": {},
   "outputs": [
    {
     "data": {
      "image/png": "[encoded data removed]",
      "text/plain": [
       "<Figure size 720x288 with 1 Axes>"
      ]
     },
     "metadata": {},
     "output_type": "display_data"
    }
   ],
   "source": [
    "genders = dataset.Genre.value_counts()\n",
    "sns.set_style(\"darkgrid\")\n",
    "plt.figure(figsize=(10,4))\n",
    "sns.barplot(x=genders.index, y=genders.values)\n",
    "plt.show()"
   ]
  },
  {
   "cell_type": "code",
   "execution_count": 256,
   "metadata": {},
   "outputs": [
    {
     "data": {
      "text/plain": [
       "[]"
      ]
     },
     "execution_count": 256,
     "metadata": {},
     "output_type": "execute_result"
    }
   ],
   "source": [
    "# find the variables with missing observations\n",
    "vars_with_na = [var for var in dataset.columns if dataset[var].isnull().mean()>0]\n",
    "vars_with_na"
   ]
  },
  {
   "cell_type": "markdown",
   "metadata": {},
   "source": [
    "There are no missing values in dataset"
   ]
  },
  {
   "cell_type": "code",
   "execution_count": 257,
   "metadata": {},
   "outputs": [],
   "source": [
    "# ## one hot encoding\n",
    "# dataset['Genre'].unique()"
   ]
  },
  {
   "cell_type": "code",
   "execution_count": 258,
   "metadata": {},
   "outputs": [],
   "source": [
    "# dataset = pd.concat([dataset,pd.get_dummies(dataset['Genre'])], axis=1)\n",
    "# dataset.head()"
   ]
  },
  {
   "cell_type": "code",
   "execution_count": 259,
   "metadata": {},
   "outputs": [
    {
     "data": {
      "text/html": [
       "<div>\n",
       "<style scoped>\n",
       "    .dataframe tbody tr th:only-of-type {\n",
       "        vertical-align: middle;\n",
       "    }\n",
       "\n",
       "    .dataframe tbody tr th {\n",
       "        vertical-align: top;\n",
       "    }\n",
       "\n",
       "    .dataframe thead th {\n",
       "        text-align: right;\n",
       "    }\n",
       "</style>\n",
       "<table border=\"1\" class=\"dataframe\">\n",
       "  <thead>\n",
       "    <tr style=\"text-align: right;\">\n",
       "      <th></th>\n",
       "      <th>CustomerID</th>\n",
       "      <th>Genre</th>\n",
       "      <th>Age</th>\n",
       "      <th>Annual Income (k$)</th>\n",
       "      <th>Spending Score (1-100)</th>\n",
       "    </tr>\n",
       "  </thead>\n",
       "  <tbody>\n",
       "    <tr>\n",
       "      <th>0</th>\n",
       "      <td>1</td>\n",
       "      <td>1</td>\n",
       "      <td>19</td>\n",
       "      <td>15</td>\n",
       "      <td>39</td>\n",
       "    </tr>\n",
       "    <tr>\n",
       "      <th>1</th>\n",
       "      <td>2</td>\n",
       "      <td>1</td>\n",
       "      <td>21</td>\n",
       "      <td>15</td>\n",
       "      <td>81</td>\n",
       "    </tr>\n",
       "    <tr>\n",
       "      <th>2</th>\n",
       "      <td>3</td>\n",
       "      <td>0</td>\n",
       "      <td>20</td>\n",
       "      <td>16</td>\n",
       "      <td>6</td>\n",
       "    </tr>\n",
       "    <tr>\n",
       "      <th>3</th>\n",
       "      <td>4</td>\n",
       "      <td>0</td>\n",
       "      <td>23</td>\n",
       "      <td>16</td>\n",
       "      <td>77</td>\n",
       "    </tr>\n",
       "    <tr>\n",
       "      <th>4</th>\n",
       "      <td>5</td>\n",
       "      <td>0</td>\n",
       "      <td>31</td>\n",
       "      <td>17</td>\n",
       "      <td>40</td>\n",
       "    </tr>\n",
       "  </tbody>\n",
       "</table>\n",
       "</div>"
      ],
      "text/plain": [
       "   CustomerID  Genre  Age  Annual Income (k$)  Spending Score (1-100)\n",
       "0           1      1   19                  15                      39\n",
       "1           2      1   21                  15                      81\n",
       "2           3      0   20                  16                       6\n",
       "3           4      0   23                  16                      77\n",
       "4           5      0   31                  17                      40"
      ]
     },
     "execution_count": 259,
     "metadata": {},
     "output_type": "execute_result"
    }
   ],
   "source": [
    "category_column = ['Genre']\n",
    "for col in category_column:\n",
    "    dataset[col] = LabelEncoder().fit_transform(dataset[col])\n",
    "    \n",
    "dataset.head()    "
   ]
  },
  {
   "cell_type": "code",
   "execution_count": 260,
   "metadata": {},
   "outputs": [
    {
     "data": {
      "text/plain": [
       "array([[  1,  19,  15,  39],\n",
       "       [  1,  21,  15,  81],\n",
       "       [  0,  20,  16,   6],\n",
       "       [  0,  23,  16,  77],\n",
       "       [  0,  31,  17,  40],\n",
       "       [  0,  22,  17,  76],\n",
       "       [  0,  35,  18,   6],\n",
       "       [  0,  23,  18,  94],\n",
       "       [  1,  64,  19,   3],\n",
       "       [  0,  30,  19,  72],\n",
       "       [  1,  67,  19,  14],\n",
       "       [  0,  35,  19,  99],\n",
       "       [  0,  58,  20,  15],\n",
       "       [  0,  24,  20,  77],\n",
       "       [  1,  37,  20,  13],\n",
       "       [  1,  22,  20,  79],\n",
       "       [  0,  35,  21,  35],\n",
       "       [  1,  20,  21,  66],\n",
       "       [  1,  52,  23,  29],\n",
       "       [  0,  35,  23,  98],\n",
       "       [  1,  35,  24,  35],\n",
       "       [  1,  25,  24,  73],\n",
       "       [  0,  46,  25,   5],\n",
       "       [  1,  31,  25,  73],\n",
       "       [  0,  54,  28,  14],\n",
       "       [  1,  29,  28,  82],\n",
       "       [  0,  45,  28,  32],\n",
       "       [  1,  35,  28,  61],\n",
       "       [  0,  40,  29,  31],\n",
       "       [  0,  23,  29,  87],\n",
       "       [  1,  60,  30,   4],\n",
       "       [  0,  21,  30,  73],\n",
       "       [  1,  53,  33,   4],\n",
       "       [  1,  18,  33,  92],\n",
       "       [  0,  49,  33,  14],\n",
       "       [  0,  21,  33,  81],\n",
       "       [  0,  42,  34,  17],\n",
       "       [  0,  30,  34,  73],\n",
       "       [  0,  36,  37,  26],\n",
       "       [  0,  20,  37,  75],\n",
       "       [  0,  65,  38,  35],\n",
       "       [  1,  24,  38,  92],\n",
       "       [  1,  48,  39,  36],\n",
       "       [  0,  31,  39,  61],\n",
       "       [  0,  49,  39,  28],\n",
       "       [  0,  24,  39,  65],\n",
       "       [  0,  50,  40,  55],\n",
       "       [  0,  27,  40,  47],\n",
       "       [  0,  29,  40,  42],\n",
       "       [  0,  31,  40,  42],\n",
       "       [  0,  49,  42,  52],\n",
       "       [  1,  33,  42,  60],\n",
       "       [  0,  31,  43,  54],\n",
       "       [  1,  59,  43,  60],\n",
       "       [  0,  50,  43,  45],\n",
       "       [  1,  47,  43,  41],\n",
       "       [  0,  51,  44,  50],\n",
       "       [  1,  69,  44,  46],\n",
       "       [  0,  27,  46,  51],\n",
       "       [  1,  53,  46,  46],\n",
       "       [  1,  70,  46,  56],\n",
       "       [  1,  19,  46,  55],\n",
       "       [  0,  67,  47,  52],\n",
       "       [  0,  54,  47,  59],\n",
       "       [  1,  63,  48,  51],\n",
       "       [  1,  18,  48,  59],\n",
       "       [  0,  43,  48,  50],\n",
       "       [  0,  68,  48,  48],\n",
       "       [  1,  19,  48,  59],\n",
       "       [  0,  32,  48,  47],\n",
       "       [  1,  70,  49,  55],\n",
       "       [  0,  47,  49,  42],\n",
       "       [  0,  60,  50,  49],\n",
       "       [  0,  60,  50,  56],\n",
       "       [  1,  59,  54,  47],\n",
       "       [  1,  26,  54,  54],\n",
       "       [  0,  45,  54,  53],\n",
       "       [  1,  40,  54,  48],\n",
       "       [  0,  23,  54,  52],\n",
       "       [  0,  49,  54,  42],\n",
       "       [  1,  57,  54,  51],\n",
       "       [  1,  38,  54,  55],\n",
       "       [  1,  67,  54,  41],\n",
       "       [  0,  46,  54,  44],\n",
       "       [  0,  21,  54,  57],\n",
       "       [  1,  48,  54,  46],\n",
       "       [  0,  55,  57,  58],\n",
       "       [  0,  22,  57,  55],\n",
       "       [  0,  34,  58,  60],\n",
       "       [  0,  50,  58,  46],\n",
       "       [  0,  68,  59,  55],\n",
       "       [  1,  18,  59,  41],\n",
       "       [  1,  48,  60,  49],\n",
       "       [  0,  40,  60,  40],\n",
       "       [  0,  32,  60,  42],\n",
       "       [  1,  24,  60,  52],\n",
       "       [  0,  47,  60,  47],\n",
       "       [  0,  27,  60,  50],\n",
       "       [  1,  48,  61,  42],\n",
       "       [  1,  20,  61,  49],\n",
       "       [  0,  23,  62,  41],\n",
       "       [  0,  49,  62,  48],\n",
       "       [  1,  67,  62,  59],\n",
       "       [  1,  26,  62,  55],\n",
       "       [  1,  49,  62,  56],\n",
       "       [  0,  21,  62,  42],\n",
       "       [  0,  66,  63,  50],\n",
       "       [  1,  54,  63,  46],\n",
       "       [  1,  68,  63,  43],\n",
       "       [  1,  66,  63,  48],\n",
       "       [  1,  65,  63,  52],\n",
       "       [  0,  19,  63,  54],\n",
       "       [  0,  38,  64,  42],\n",
       "       [  1,  19,  64,  46],\n",
       "       [  0,  18,  65,  48],\n",
       "       [  0,  19,  65,  50],\n",
       "       [  0,  63,  65,  43],\n",
       "       [  0,  49,  65,  59],\n",
       "       [  0,  51,  67,  43],\n",
       "       [  0,  50,  67,  57],\n",
       "       [  1,  27,  67,  56],\n",
       "       [  0,  38,  67,  40],\n",
       "       [  0,  40,  69,  58],\n",
       "       [  1,  39,  69,  91],\n",
       "       [  0,  23,  70,  29],\n",
       "       [  0,  31,  70,  77],\n",
       "       [  1,  43,  71,  35],\n",
       "       [  1,  40,  71,  95],\n",
       "       [  1,  59,  71,  11],\n",
       "       [  1,  38,  71,  75],\n",
       "       [  1,  47,  71,   9],\n",
       "       [  1,  39,  71,  75],\n",
       "       [  0,  25,  72,  34],\n",
       "       [  0,  31,  72,  71],\n",
       "       [  1,  20,  73,   5],\n",
       "       [  0,  29,  73,  88],\n",
       "       [  0,  44,  73,   7],\n",
       "       [  1,  32,  73,  73],\n",
       "       [  1,  19,  74,  10],\n",
       "       [  0,  35,  74,  72],\n",
       "       [  0,  57,  75,   5],\n",
       "       [  1,  32,  75,  93],\n",
       "       [  0,  28,  76,  40],\n",
       "       [  0,  32,  76,  87],\n",
       "       [  1,  25,  77,  12],\n",
       "       [  1,  28,  77,  97],\n",
       "       [  1,  48,  77,  36],\n",
       "       [  0,  32,  77,  74],\n",
       "       [  0,  34,  78,  22],\n",
       "       [  1,  34,  78,  90],\n",
       "       [  1,  43,  78,  17],\n",
       "       [  1,  39,  78,  88],\n",
       "       [  0,  44,  78,  20],\n",
       "       [  0,  38,  78,  76],\n",
       "       [  0,  47,  78,  16],\n",
       "       [  0,  27,  78,  89],\n",
       "       [  1,  37,  78,   1],\n",
       "       [  0,  30,  78,  78],\n",
       "       [  1,  34,  78,   1],\n",
       "       [  0,  30,  78,  73],\n",
       "       [  0,  56,  79,  35],\n",
       "       [  0,  29,  79,  83],\n",
       "       [  1,  19,  81,   5],\n",
       "       [  0,  31,  81,  93],\n",
       "       [  1,  50,  85,  26],\n",
       "       [  0,  36,  85,  75],\n",
       "       [  1,  42,  86,  20],\n",
       "       [  0,  33,  86,  95],\n",
       "       [  0,  36,  87,  27],\n",
       "       [  1,  32,  87,  63],\n",
       "       [  1,  40,  87,  13],\n",
       "       [  1,  28,  87,  75],\n",
       "       [  1,  36,  87,  10],\n",
       "       [  1,  36,  87,  92],\n",
       "       [  0,  52,  88,  13],\n",
       "       [  0,  30,  88,  86],\n",
       "       [  1,  58,  88,  15],\n",
       "       [  1,  27,  88,  69],\n",
       "       [  1,  59,  93,  14],\n",
       "       [  1,  35,  93,  90],\n",
       "       [  0,  37,  97,  32],\n",
       "       [  0,  32,  97,  86],\n",
       "       [  1,  46,  98,  15],\n",
       "       [  0,  29,  98,  88],\n",
       "       [  0,  41,  99,  39],\n",
       "       [  1,  30,  99,  97],\n",
       "       [  0,  54, 101,  24],\n",
       "       [  1,  28, 101,  68],\n",
       "       [  0,  41, 103,  17],\n",
       "       [  0,  36, 103,  85],\n",
       "       [  0,  34, 103,  23],\n",
       "       [  0,  32, 103,  69],\n",
       "       [  1,  33, 113,   8],\n",
       "       [  0,  38, 113,  91],\n",
       "       [  0,  47, 120,  16],\n",
       "       [  0,  35, 120,  79],\n",
       "       [  0,  45, 126,  28],\n",
       "       [  1,  32, 126,  74]])"
      ]
     },
     "execution_count": 260,
     "metadata": {},
     "output_type": "execute_result"
    }
   ],
   "source": [
    "X = dataset.iloc[:,1:].values\n",
    "X"
   ]
  },
  {
   "cell_type": "code",
   "execution_count": 261,
   "metadata": {},
   "outputs": [],
   "source": [
    "# standardisation: with the StandardScaler from sklearn\n",
    "\n",
    "# set up the scaler\n",
    "scaler = StandardScaler()\n",
    "\n",
    "# fit the scaler to the train set, it will learn the parameters\n",
    "scaler.fit(X)\n",
    "\n",
    "# transform train and test sets\n",
    "X_scaled = scaler.transform(X)"
   ]
  },
  {
   "cell_type": "markdown",
   "metadata": {},
   "source": [
    "## Using the elbow method to find the optimal number of clusters"
   ]
  },
  {
   "cell_type": "code",
   "execution_count": 262,
   "metadata": {},
   "outputs": [
    {
     "data": {
      "image/png": "[encoded data removed]",
      "text/plain": [
       "<Figure size 432x288 with 1 Axes>"
      ]
     },
     "metadata": {},
     "output_type": "display_data"
    }
   ],
   "source": [
    "wcss = []\n",
    "for i in range(1,11):\n",
    "    kmeans = KMeans(n_clusters = i, init = 'k-means++', random_state =75)\n",
    "    kmeans.fit(X_scaled)\n",
    "    wcss.append(kmeans.inertia_)\n",
    "plt.plot(range(1,11),wcss) \n",
    "plt.title('The Elbow Method')\n",
    "plt.xlabel('number of clusters')\n",
    "plt.ylabel('WCSS')\n",
    "plt.show()"
   ]
  },
  {
   "cell_type": "markdown",
   "metadata": {},
   "source": [
    "## Training the K means model on the dataset"
   ]
  },
  {
   "cell_type": "code",
   "execution_count": 296,
   "metadata": {},
   "outputs": [],
   "source": [
    "kmeans = KMeans(n_clusters = 6, init = 'k-means++', random_state =42)\n",
    "y_kmeans = kmeans.fit_predict(X_scaled)"
   ]
  },
  {
   "cell_type": "code",
   "execution_count": 297,
   "metadata": {},
   "outputs": [
    {
     "name": "stdout",
     "output_type": "stream",
     "text": [
      "[2 2 4 4 4 4 1 4 3 4 3 4 1 4 2 2 4 2 3 4 2 2 1 2 1 2 1 2 1 4 3 4 3 2 1 4 1\n",
      " 4 1 4 1 2 3 4 1 4 1 4 4 4 1 2 4 3 1 3 1 3 4 3 3 2 1 1 3 2 1 1 2 4 3 1 1 1\n",
      " 3 2 1 2 4 1 3 2 3 1 4 3 1 4 4 1 1 2 3 1 4 2 1 4 3 2 4 1 3 2 3 4 1 3 3 3 3\n",
      " 4 1 2 4 4 1 1 1 1 2 1 1 5 4 5 3 5 3 5 0 5 4 5 0 5 0 5 0 5 0 5 4 5 0 5 3 5\n",
      " 0 5 0 5 0 5 0 5 0 5 0 5 1 5 0 5 0 5 0 5 0 5 0 5 0 5 0 5 0 5 0 5 0 5 0 5 0\n",
      " 5 0 5 0 5 0 5 0 5 0 5 0 5]\n"
     ]
    }
   ],
   "source": [
    "print(y_kmeans)"
   ]
  },
  {
   "cell_type": "code",
   "execution_count": 298,
   "metadata": {},
   "outputs": [
    {
     "data": {
      "text/html": [
       "<div>\n",
       "<style scoped>\n",
       "    .dataframe tbody tr th:only-of-type {\n",
       "        vertical-align: middle;\n",
       "    }\n",
       "\n",
       "    .dataframe tbody tr th {\n",
       "        vertical-align: top;\n",
       "    }\n",
       "\n",
       "    .dataframe thead th {\n",
       "        text-align: right;\n",
       "    }\n",
       "</style>\n",
       "<table border=\"1\" class=\"dataframe\">\n",
       "  <thead>\n",
       "    <tr style=\"text-align: right;\">\n",
       "      <th></th>\n",
       "      <th>CustomerID</th>\n",
       "      <th>Genre</th>\n",
       "      <th>Age</th>\n",
       "      <th>Annual Income (k$)</th>\n",
       "      <th>Spending Score (1-100)</th>\n",
       "      <th>label</th>\n",
       "    </tr>\n",
       "  </thead>\n",
       "  <tbody>\n",
       "    <tr>\n",
       "      <th>0</th>\n",
       "      <td>1</td>\n",
       "      <td>1</td>\n",
       "      <td>19</td>\n",
       "      <td>15</td>\n",
       "      <td>39</td>\n",
       "      <td>2</td>\n",
       "    </tr>\n",
       "    <tr>\n",
       "      <th>1</th>\n",
       "      <td>2</td>\n",
       "      <td>1</td>\n",
       "      <td>21</td>\n",
       "      <td>15</td>\n",
       "      <td>81</td>\n",
       "      <td>2</td>\n",
       "    </tr>\n",
       "    <tr>\n",
       "      <th>2</th>\n",
       "      <td>3</td>\n",
       "      <td>0</td>\n",
       "      <td>20</td>\n",
       "      <td>16</td>\n",
       "      <td>6</td>\n",
       "      <td>4</td>\n",
       "    </tr>\n",
       "    <tr>\n",
       "      <th>3</th>\n",
       "      <td>4</td>\n",
       "      <td>0</td>\n",
       "      <td>23</td>\n",
       "      <td>16</td>\n",
       "      <td>77</td>\n",
       "      <td>4</td>\n",
       "    </tr>\n",
       "    <tr>\n",
       "      <th>4</th>\n",
       "      <td>5</td>\n",
       "      <td>0</td>\n",
       "      <td>31</td>\n",
       "      <td>17</td>\n",
       "      <td>40</td>\n",
       "      <td>4</td>\n",
       "    </tr>\n",
       "    <tr>\n",
       "      <th>5</th>\n",
       "      <td>6</td>\n",
       "      <td>0</td>\n",
       "      <td>22</td>\n",
       "      <td>17</td>\n",
       "      <td>76</td>\n",
       "      <td>4</td>\n",
       "    </tr>\n",
       "    <tr>\n",
       "      <th>6</th>\n",
       "      <td>7</td>\n",
       "      <td>0</td>\n",
       "      <td>35</td>\n",
       "      <td>18</td>\n",
       "      <td>6</td>\n",
       "      <td>1</td>\n",
       "    </tr>\n",
       "    <tr>\n",
       "      <th>7</th>\n",
       "      <td>8</td>\n",
       "      <td>0</td>\n",
       "      <td>23</td>\n",
       "      <td>18</td>\n",
       "      <td>94</td>\n",
       "      <td>4</td>\n",
       "    </tr>\n",
       "    <tr>\n",
       "      <th>8</th>\n",
       "      <td>9</td>\n",
       "      <td>1</td>\n",
       "      <td>64</td>\n",
       "      <td>19</td>\n",
       "      <td>3</td>\n",
       "      <td>3</td>\n",
       "    </tr>\n",
       "    <tr>\n",
       "      <th>9</th>\n",
       "      <td>10</td>\n",
       "      <td>0</td>\n",
       "      <td>30</td>\n",
       "      <td>19</td>\n",
       "      <td>72</td>\n",
       "      <td>4</td>\n",
       "    </tr>\n",
       "    <tr>\n",
       "      <th>10</th>\n",
       "      <td>11</td>\n",
       "      <td>1</td>\n",
       "      <td>67</td>\n",
       "      <td>19</td>\n",
       "      <td>14</td>\n",
       "      <td>3</td>\n",
       "    </tr>\n",
       "    <tr>\n",
       "      <th>11</th>\n",
       "      <td>12</td>\n",
       "      <td>0</td>\n",
       "      <td>35</td>\n",
       "      <td>19</td>\n",
       "      <td>99</td>\n",
       "      <td>4</td>\n",
       "    </tr>\n",
       "    <tr>\n",
       "      <th>12</th>\n",
       "      <td>13</td>\n",
       "      <td>0</td>\n",
       "      <td>58</td>\n",
       "      <td>20</td>\n",
       "      <td>15</td>\n",
       "      <td>1</td>\n",
       "    </tr>\n",
       "    <tr>\n",
       "      <th>13</th>\n",
       "      <td>14</td>\n",
       "      <td>0</td>\n",
       "      <td>24</td>\n",
       "      <td>20</td>\n",
       "      <td>77</td>\n",
       "      <td>4</td>\n",
       "    </tr>\n",
       "    <tr>\n",
       "      <th>14</th>\n",
       "      <td>15</td>\n",
       "      <td>1</td>\n",
       "      <td>37</td>\n",
       "      <td>20</td>\n",
       "      <td>13</td>\n",
       "      <td>2</td>\n",
       "    </tr>\n",
       "    <tr>\n",
       "      <th>15</th>\n",
       "      <td>16</td>\n",
       "      <td>1</td>\n",
       "      <td>22</td>\n",
       "      <td>20</td>\n",
       "      <td>79</td>\n",
       "      <td>2</td>\n",
       "    </tr>\n",
       "    <tr>\n",
       "      <th>16</th>\n",
       "      <td>17</td>\n",
       "      <td>0</td>\n",
       "      <td>35</td>\n",
       "      <td>21</td>\n",
       "      <td>35</td>\n",
       "      <td>4</td>\n",
       "    </tr>\n",
       "    <tr>\n",
       "      <th>17</th>\n",
       "      <td>18</td>\n",
       "      <td>1</td>\n",
       "      <td>20</td>\n",
       "      <td>21</td>\n",
       "      <td>66</td>\n",
       "      <td>2</td>\n",
       "    </tr>\n",
       "    <tr>\n",
       "      <th>18</th>\n",
       "      <td>19</td>\n",
       "      <td>1</td>\n",
       "      <td>52</td>\n",
       "      <td>23</td>\n",
       "      <td>29</td>\n",
       "      <td>3</td>\n",
       "    </tr>\n",
       "    <tr>\n",
       "      <th>19</th>\n",
       "      <td>20</td>\n",
       "      <td>0</td>\n",
       "      <td>35</td>\n",
       "      <td>23</td>\n",
       "      <td>98</td>\n",
       "      <td>4</td>\n",
       "    </tr>\n",
       "  </tbody>\n",
       "</table>\n",
       "</div>"
      ],
      "text/plain": [
       "    CustomerID  Genre  Age  Annual Income (k$)  Spending Score (1-100)  label\n",
       "0            1      1   19                  15                      39      2\n",
       "1            2      1   21                  15                      81      2\n",
       "2            3      0   20                  16                       6      4\n",
       "3            4      0   23                  16                      77      4\n",
       "4            5      0   31                  17                      40      4\n",
       "5            6      0   22                  17                      76      4\n",
       "6            7      0   35                  18                       6      1\n",
       "7            8      0   23                  18                      94      4\n",
       "8            9      1   64                  19                       3      3\n",
       "9           10      0   30                  19                      72      4\n",
       "10          11      1   67                  19                      14      3\n",
       "11          12      0   35                  19                      99      4\n",
       "12          13      0   58                  20                      15      1\n",
       "13          14      0   24                  20                      77      4\n",
       "14          15      1   37                  20                      13      2\n",
       "15          16      1   22                  20                      79      2\n",
       "16          17      0   35                  21                      35      4\n",
       "17          18      1   20                  21                      66      2\n",
       "18          19      1   52                  23                      29      3\n",
       "19          20      0   35                  23                      98      4"
      ]
     },
     "execution_count": 298,
     "metadata": {},
     "output_type": "execute_result"
    }
   ],
   "source": [
    "## Adding labels to dataset\n",
    "dataset['label'] = y_kmeans\n",
    "dataset.head(20)"
   ]
  },
  {
   "cell_type": "markdown",
   "metadata": {},
   "source": [
    "## Visualizing the clusters"
   ]
  },
  {
   "cell_type": "code",
   "execution_count": 299,
   "metadata": {},
   "outputs": [
    {
     "data": {
      "image/png": "[encoded data removed]",
      "text/plain": [
       "<Figure size 432x288 with 1 Axes>"
      ]
     },
     "metadata": {},
     "output_type": "display_data"
    },
    {
     "data": {
      "image/png": "[encoded data removed]",
      "text/plain": [
       "<Figure size 432x288 with 1 Axes>"
      ]
     },
     "metadata": {},
     "output_type": "display_data"
    },
    {
     "data": {
      "image/png": "[encoded data removed]",
      "text/plain": [
       "<Figure size 432x288 with 1 Axes>"
      ]
     },
     "metadata": {},
     "output_type": "display_data"
    }
   ],
   "source": [
    "columns_numeric = ['Age','Annual Income (k$)','Spending Score (1-100)']\n",
    "\n",
    "for i in columns_numeric:\n",
    "    plt.figure(figsize = (6,4))\n",
    "    ax = sns.boxplot(x = 'label', y = i, data = dataset)\n",
    "    plt.title('\\nBoxPlot {}\\n'.format(i), fontsize =15)\n",
    "    plt.show()\n",
    "    \n",
    "    "
   ]
  },
  {
   "cell_type": "code",
   "execution_count": 300,
   "metadata": {},
   "outputs": [
    {
     "data": {
      "image/png": "[encoded data removed]",
      "text/plain": [
       "<Figure size 648x504 with 1 Axes>"
      ]
     },
     "metadata": {},
     "output_type": "display_data"
    }
   ],
   "source": [
    "sns.set(style = 'white')\n",
    "columns_categorical = ['Genre']\n",
    "\n",
    "for i in columns_categorical:\n",
    "    plt.figure(figsize = (9,7))\n",
    "    ax = sns.countplot(x = 'label' , hue = i, data = dataset)\n",
    "    plt.title('\\nCount Plot {}\\n'.format(i), fontsize =15)\n",
    "    ax.legend(loc = \"upper center\")\n",
    "    for p in ax.patches:\n",
    "        ax.annotate(format(p.get_height(),'.0f'),\n",
    "                   (p.get_x() + p.get_width() / 2.,p.get_height()),\n",
    "        ha = 'center',\n",
    "        va = 'center',\n",
    "        xytext = (0,10),\n",
    "        textcoords = 'offset points')\n",
    "        \n",
    "    sns.despine(right = True, top = True, left = True)\n",
    "    ax.axes.yaxis.set_visible(False)\n",
    "    plt.show()"
   ]
  },
  {
   "cell_type": "code",
   "execution_count": 301,
   "metadata": {},
   "outputs": [
    {
     "name": "stdout",
     "output_type": "stream",
     "text": [
      "Silhouetter Score: 0.329\n"
     ]
    }
   ],
   "source": [
    "from sklearn.metrics import silhouette_score\n",
    "\n",
    "# Calculate Silhoutte Score\n",
    "score = silhouette_score(X_scaled, kmeans.labels_, metric='euclidean')\n",
    "print('Silhouetter Score: %.3f' % score)"
   ]
  },
  {
   "cell_type": "code",
   "execution_count": null,
   "metadata": {},
   "outputs": [],
   "source": []
  },
  {
   "cell_type": "code",
   "execution_count": null,
   "metadata": {},
   "outputs": [],
   "source": []
  }
 ],
 "metadata": {
  "kernelspec": {
   "display_name": "Python 3",
   "language": "python",
   "name": "python3"
  },
  "language_info": {
   "codemirror_mode": {
    "name": "ipython",
    "version": 3
   },
   "file_extension": ".py",
   "mimetype": "text/x-python",
   "name": "python",
   "nbconvert_exporter": "python",
   "pygments_lexer": "ipython3",
   "version": "3.7.4"
  }
 },
 "nbformat": 4,
 "nbformat_minor": 2
}
